{
 "cells": [
  {
   "cell_type": "code",
   "execution_count": 1,
   "id": "82bcf16d",
   "metadata": {},
   "outputs": [],
   "source": [
    "import findspark\n",
    "findspark.init()"
   ]
  },
  {
   "cell_type": "code",
   "execution_count": 2,
   "id": "5d2c19c1",
   "metadata": {},
   "outputs": [],
   "source": [
    "import pyspark # only run after findspark.init()\n",
    "from pyspark.sql import SparkSession"
   ]
  },
  {
   "cell_type": "code",
   "execution_count": 3,
   "id": "abd42313",
   "metadata": {},
   "outputs": [],
   "source": [
    "spark = SparkSession.builder.getOrCreate()"
   ]
  },
  {
   "cell_type": "code",
   "execution_count": 6,
   "id": "a77ac81e",
   "metadata": {},
   "outputs": [],
   "source": [
    "# define data path\n",
    "data_path = \"data\""
   ]
  },
  {
   "cell_type": "markdown",
   "id": "3d2c950d",
   "metadata": {},
   "source": [
    "DataFrame API"
   ]
  },
  {
   "cell_type": "code",
   "execution_count": 8,
   "id": "d3f9430b",
   "metadata": {},
   "outputs": [],
   "source": [
    "# load utilization.json\n",
    "file_path = data_path + \"/utlization.json\"\n",
    "df1 = spark.read.format(\"json\").load(file_path)"
   ]
  },
  {
   "cell_type": "code",
   "execution_count": 9,
   "id": "10ec304e",
   "metadata": {},
   "outputs": [
    {
     "name": "stdout",
     "output_type": "stream",
     "text": [
      "+---------------+-------------------+-----------+---------+-------------+\n",
      "|cpu_utilization|     event_datetime|free_memory|server_id|session_count|\n",
      "+---------------+-------------------+-----------+---------+-------------+\n",
      "|           0.57|03/05/2019 08:06:14|       0.51|      100|           47|\n",
      "|           0.47|03/05/2019 08:11:14|       0.62|      100|           43|\n",
      "|           0.56|03/05/2019 08:16:14|       0.57|      100|           62|\n",
      "|           0.57|03/05/2019 08:21:14|       0.56|      100|           50|\n",
      "|           0.35|03/05/2019 08:26:14|       0.46|      100|           43|\n",
      "|           0.41|03/05/2019 08:31:14|       0.58|      100|           48|\n",
      "|           0.57|03/05/2019 08:36:14|       0.35|      100|           58|\n",
      "|           0.41|03/05/2019 08:41:14|        0.4|      100|           58|\n",
      "|           0.53|03/05/2019 08:46:14|       0.35|      100|           62|\n",
      "|           0.51|03/05/2019 08:51:14|        0.6|      100|           45|\n",
      "|           0.32|03/05/2019 08:56:14|       0.37|      100|           47|\n",
      "|           0.62|03/05/2019 09:01:14|       0.59|      100|           60|\n",
      "|           0.66|03/05/2019 09:06:14|       0.72|      100|           57|\n",
      "|           0.54|03/05/2019 09:11:14|       0.54|      100|           44|\n",
      "|           0.29|03/05/2019 09:16:14|        0.4|      100|           47|\n",
      "|           0.43|03/05/2019 09:21:14|       0.68|      100|           66|\n",
      "|           0.49|03/05/2019 09:26:14|       0.66|      100|           65|\n",
      "|           0.64|03/05/2019 09:31:14|       0.55|      100|           66|\n",
      "|           0.42|03/05/2019 09:36:14|        0.6|      100|           42|\n",
      "|           0.55|03/05/2019 09:41:14|       0.59|      100|           63|\n",
      "+---------------+-------------------+-----------+---------+-------------+\n",
      "only showing top 20 rows\n",
      "\n"
     ]
    }
   ],
   "source": [
    "# show df1\n",
    "df1.show()"
   ]
  },
  {
   "cell_type": "code",
   "execution_count": 10,
   "id": "621f2198",
   "metadata": {},
   "outputs": [],
   "source": []
  },
  {
   "cell_type": "code",
   "execution_count": 11,
   "id": "c4b743e4",
   "metadata": {},
   "outputs": [
    {
     "name": "stdout",
     "output_type": "stream",
     "text": [
      "+-------+-------------------+-------------------+-------------------+------------------+------------------+\n",
      "|summary|    cpu_utilization|     event_datetime|        free_memory|         server_id|     session_count|\n",
      "+-------+-------------------+-------------------+-------------------+------------------+------------------+\n",
      "|  count|             500000|             500000|             500000|            500000|            500000|\n",
      "|   mean| 0.6205177399999957|               null|0.37912809999999864|             124.5|          69.59616|\n",
      "| stddev|0.15875173872912945|               null|0.15830931278376276|14.430884120553191|14.850676696352851|\n",
      "|    min|               0.22|03/05/2019 08:06:14|                0.0|               100|                32|\n",
      "|    max|                1.0|04/09/2019 01:22:46|               0.78|               149|               105|\n",
      "+-------+-------------------+-------------------+-------------------+------------------+------------------+\n",
      "\n"
     ]
    }
   ],
   "source": [
    "# get summary statistics about DataFrame\n",
    "df1.describe().show()"
   ]
  },
  {
   "cell_type": "code",
   "execution_count": 12,
   "id": "abe0280f",
   "metadata": {},
   "outputs": [
    {
     "data": {
      "text/plain": [
       "-0.4704771573080754"
      ]
     },
     "execution_count": 12,
     "metadata": {},
     "output_type": "execute_result"
    }
   ],
   "source": [
    "# get correlation between two columns\n",
    "df1.stat.corr(\"cpu_utilization\", \"free_memory\")"
   ]
  },
  {
   "cell_type": "code",
   "execution_count": 13,
   "id": "c08372a1",
   "metadata": {},
   "outputs": [
    {
     "data": {
      "text/plain": [
       "-0.5008320848876573"
      ]
     },
     "execution_count": 13,
     "metadata": {},
     "output_type": "execute_result"
    }
   ],
   "source": [
    "# get correlation between two columns\n",
    "df1.stat.corr(\"session_count\", \"free_memory\")"
   ]
  },
  {
   "cell_type": "code",
   "execution_count": 15,
   "id": "fc814130",
   "metadata": {},
   "outputs": [
    {
     "name": "stdout",
     "output_type": "stream",
     "text": [
      "+--------------------+-----------------------+\n",
      "| server_id_freqItems|session_count_freqItems|\n",
      "+--------------------+-----------------------+\n",
      "|[137, 146, 101, 1...|   [92, 101, 83, 104...|\n",
      "+--------------------+-----------------------+\n",
      "\n"
     ]
    }
   ],
   "source": [
    "# get the most frequently occuring values of specific columns\n",
    "df1.stat.freqItems((\"server_id\", \"session_count\")).show()"
   ]
  },
  {
   "cell_type": "code",
   "execution_count": 17,
   "id": "a485f45e",
   "metadata": {},
   "outputs": [
    {
     "name": "stdout",
     "output_type": "stream",
     "text": [
      "+---------------+-------------------+-----------+---------+-------------+\n",
      "|cpu_utilization|     event_datetime|free_memory|server_id|session_count|\n",
      "+---------------+-------------------+-----------+---------+-------------+\n",
      "|           0.29|03/05/2019 09:16:14|        0.4|      100|           47|\n",
      "|            0.4|03/05/2019 12:06:14|       0.36|      100|           53|\n",
      "|           0.29|03/05/2019 13:36:14|       0.63|      100|           67|\n",
      "|           0.46|03/05/2019 17:16:14|       0.69|      100|           41|\n",
      "|           0.49|03/05/2019 17:41:14|        0.6|      100|           45|\n",
      "|            0.4|03/05/2019 17:51:14|       0.51|      100|           53|\n",
      "|           0.39|03/05/2019 19:26:14|       0.47|      100|           67|\n",
      "|           0.47|03/05/2019 19:36:14|       0.72|      100|           42|\n",
      "|           0.53|03/05/2019 20:26:14|       0.41|      100|           46|\n",
      "|           0.56|03/05/2019 20:31:14|        0.7|      100|           61|\n",
      "|           0.55|03/05/2019 22:11:14|       0.57|      100|           43|\n",
      "|           0.55|03/05/2019 23:06:14|       0.33|      100|           66|\n",
      "|           0.63|03/06/2019 01:01:14|       0.58|      100|           59|\n",
      "|           0.64|03/06/2019 02:26:14|       0.72|      100|           59|\n",
      "|           0.28|03/06/2019 03:11:14|       0.49|      100|           60|\n",
      "|           0.31|03/06/2019 03:41:14|       0.71|      100|           37|\n",
      "|           0.62|03/06/2019 09:11:14|       0.66|      100|           49|\n",
      "|           0.59|03/06/2019 10:31:14|       0.63|      100|           46|\n",
      "|           0.51|03/06/2019 11:16:14|       0.48|      100|           58|\n",
      "|           0.45|03/06/2019 14:51:14|       0.61|      100|           63|\n",
      "+---------------+-------------------+-----------+---------+-------------+\n",
      "only showing top 20 rows\n",
      "\n"
     ]
    }
   ],
   "source": [
    "# extract sample of data, without replacement\n",
    "df1_sample = df1.sample(withReplacement=False, fraction=0.05)\n",
    "df1_sample.show()"
   ]
  },
  {
   "cell_type": "markdown",
   "id": "34469998",
   "metadata": {},
   "source": [
    "Spark SQL API"
   ]
  },
  {
   "cell_type": "code",
   "execution_count": 18,
   "id": "de80acaa",
   "metadata": {},
   "outputs": [],
   "source": [
    "# create temporary view utilization from df1\n",
    "df1.createOrReplaceTempView(\"utilization\")"
   ]
  },
  {
   "cell_type": "code",
   "execution_count": 20,
   "id": "842269aa",
   "metadata": {},
   "outputs": [
    {
     "name": "stdout",
     "output_type": "stream",
     "text": [
      "+--------------------+--------------------+-----------------------+\n",
      "|min(cpu_utilization)|max(cpu_utilization)|stddev(cpu_utilization)|\n",
      "+--------------------+--------------------+-----------------------+\n",
      "|                0.22|                 1.0|    0.15875173872912945|\n",
      "+--------------------+--------------------+-----------------------+\n",
      "\n"
     ]
    }
   ],
   "source": [
    "# get summary statistics for a specific column\n",
    "spark.sql(\"SELECT MIN(cpu_utilization), MAX(cpu_utilization), STDDEV(cpu_utilization) FROM utilization\").show()"
   ]
  },
  {
   "cell_type": "code",
   "execution_count": 21,
   "id": "13d5694b",
   "metadata": {},
   "outputs": [
    {
     "name": "stdout",
     "output_type": "stream",
     "text": [
      "+---------+--------------------+--------------------+-----------------------+\n",
      "|server_id|min(cpu_utilization)|max(cpu_utilization)|stddev(cpu_utilization)|\n",
      "+---------+--------------------+--------------------+-----------------------+\n",
      "|      103|                0.56|                0.96|    0.11617507884178278|\n",
      "|      104|                0.51|                0.91|    0.11521679513850511|\n",
      "|      106|                0.22|                0.62|    0.11531539914568226|\n",
      "|      100|                0.27|                0.67|     0.1152264191787964|\n",
      "|      105|                0.29|                0.69|    0.11510721467869486|\n",
      "|      101|                 0.6|                 1.0|    0.11651726263197697|\n",
      "|      102|                0.56|                0.96|    0.11549678751286807|\n",
      "|      112|                0.52|                0.92|    0.11528867845082576|\n",
      "|      113|                0.58|                0.98|    0.11544345150353687|\n",
      "|      110|                0.35|                0.75|    0.11533251724450215|\n",
      "|      107|                0.45|                0.85|    0.11597417369783877|\n",
      "|      111|                0.36|                0.76|    0.11530221569464506|\n",
      "|      108|                0.55|                0.95|    0.11563100171171926|\n",
      "|      109|                0.36|                0.76|    0.11574898623219722|\n",
      "|      119|                0.22|                0.62|    0.11516031929842008|\n",
      "|      116|                 0.3|                 0.7|    0.11506079722349302|\n",
      "|      114|                0.33|                0.73|    0.11510268816097273|\n",
      "|      115|                0.44|                0.84|    0.11569664615014985|\n",
      "|      120|                0.35|                0.75|    0.11586355920838642|\n",
      "|      118|                0.53|                0.93|    0.11474318421515234|\n",
      "+---------+--------------------+--------------------+-----------------------+\n",
      "only showing top 20 rows\n",
      "\n"
     ]
    }
   ],
   "source": [
    "# aggregate get summary statistics for a specific column \n",
    "spark.sql(\"SELECT server_id, MIN(cpu_utilization), MAX(cpu_utilization), STDDEV(cpu_utilization) \\\n",
    "          FROM utilization \\\n",
    "          GROUP BY server_id\").show()"
   ]
  },
  {
   "cell_type": "code",
   "execution_count": 23,
   "id": "9cd8d204",
   "metadata": {},
   "outputs": [
    {
     "name": "stdout",
     "output_type": "stream",
     "text": [
      "+------+--------+\n",
      "|bucket|count(1)|\n",
      "+------+--------+\n",
      "|     2|    8186|\n",
      "|     3|   37029|\n",
      "|     4|   68046|\n",
      "|     5|  104910|\n",
      "|     6|  116725|\n",
      "|     7|   88242|\n",
      "|     8|   56598|\n",
      "|     9|   20207|\n",
      "|    10|      57|\n",
      "+------+--------+\n",
      "\n"
     ]
    }
   ],
   "source": [
    "# bucketing data from a specific column\n",
    "spark.sql(\"SELECT FLOOR((cpu_utilization*100/10)) bucket, COUNT(*) \\\n",
    "          FROM utilization \\\n",
    "          GROUP BY bucket \\\n",
    "          ORDER BY bucket\").show()"
   ]
  }
 ],
 "metadata": {
  "kernelspec": {
   "display_name": "Python 3 (ipykernel)",
   "language": "python",
   "name": "python3"
  },
  "language_info": {
   "codemirror_mode": {
    "name": "ipython",
    "version": 3
   },
   "file_extension": ".py",
   "mimetype": "text/x-python",
   "name": "python",
   "nbconvert_exporter": "python",
   "pygments_lexer": "ipython3",
   "version": "3.8.5"
  }
 },
 "nbformat": 4,
 "nbformat_minor": 5
}
