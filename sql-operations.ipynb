{
 "cells": [
  {
   "cell_type": "code",
   "execution_count": 1,
   "id": "803e5a5b",
   "metadata": {},
   "outputs": [],
   "source": [
    "import findspark\n",
    "findspark.init()"
   ]
  },
  {
   "cell_type": "code",
   "execution_count": 2,
   "id": "4444d8fa",
   "metadata": {},
   "outputs": [],
   "source": [
    "import pyspark # only run after findspark.init()\n",
    "from pyspark.sql import SparkSession"
   ]
  },
  {
   "cell_type": "code",
   "execution_count": 3,
   "id": "d7a12af8",
   "metadata": {},
   "outputs": [],
   "source": [
    "spark = SparkSession.builder.getOrCreate()"
   ]
  },
  {
   "cell_type": "code",
   "execution_count": 4,
   "id": "a48d885f",
   "metadata": {},
   "outputs": [],
   "source": [
    "# define data path\n",
    "data_path = \"Exercise Files/data\""
   ]
  },
  {
   "cell_type": "code",
   "execution_count": 5,
   "id": "b989112b",
   "metadata": {},
   "outputs": [],
   "source": [
    "# load utilization.json\n",
    "file_path = data_path + \"/utlization.json\"\n",
    "df1 = spark.read.format(\"json\").load(file_path)"
   ]
  },
  {
   "cell_type": "code",
   "execution_count": 6,
   "id": "4ae3e50d",
   "metadata": {},
   "outputs": [
    {
     "name": "stdout",
     "output_type": "stream",
     "text": [
      "+---------------+-------------------+-----------+---------+-------------+\n",
      "|cpu_utilization|     event_datetime|free_memory|server_id|session_count|\n",
      "+---------------+-------------------+-----------+---------+-------------+\n",
      "|           0.57|03/05/2019 08:06:14|       0.51|      100|           47|\n",
      "|           0.47|03/05/2019 08:11:14|       0.62|      100|           43|\n",
      "|           0.56|03/05/2019 08:16:14|       0.57|      100|           62|\n",
      "|           0.57|03/05/2019 08:21:14|       0.56|      100|           50|\n",
      "|           0.35|03/05/2019 08:26:14|       0.46|      100|           43|\n",
      "|           0.41|03/05/2019 08:31:14|       0.58|      100|           48|\n",
      "|           0.57|03/05/2019 08:36:14|       0.35|      100|           58|\n",
      "|           0.41|03/05/2019 08:41:14|        0.4|      100|           58|\n",
      "|           0.53|03/05/2019 08:46:14|       0.35|      100|           62|\n",
      "|           0.51|03/05/2019 08:51:14|        0.6|      100|           45|\n",
      "|           0.32|03/05/2019 08:56:14|       0.37|      100|           47|\n",
      "|           0.62|03/05/2019 09:01:14|       0.59|      100|           60|\n",
      "|           0.66|03/05/2019 09:06:14|       0.72|      100|           57|\n",
      "|           0.54|03/05/2019 09:11:14|       0.54|      100|           44|\n",
      "|           0.29|03/05/2019 09:16:14|        0.4|      100|           47|\n",
      "|           0.43|03/05/2019 09:21:14|       0.68|      100|           66|\n",
      "|           0.49|03/05/2019 09:26:14|       0.66|      100|           65|\n",
      "|           0.64|03/05/2019 09:31:14|       0.55|      100|           66|\n",
      "|           0.42|03/05/2019 09:36:14|        0.6|      100|           42|\n",
      "|           0.55|03/05/2019 09:41:14|       0.59|      100|           63|\n",
      "+---------------+-------------------+-----------+---------+-------------+\n",
      "only showing top 20 rows\n",
      "\n"
     ]
    }
   ],
   "source": [
    "# show df1\n",
    "df1.show()"
   ]
  },
  {
   "cell_type": "code",
   "execution_count": 29,
   "id": "52432931",
   "metadata": {},
   "outputs": [],
   "source": [
    "# load server_name.csv\n",
    "file_path = data_path + \"/server_name.csv\"\n",
    "df2 = spark.read.format(\"csv\").option(\"header\", \"true\").load(file_path)"
   ]
  },
  {
   "cell_type": "code",
   "execution_count": 30,
   "id": "95033253",
   "metadata": {},
   "outputs": [
    {
     "name": "stdout",
     "output_type": "stream",
     "text": [
      "+---------+-----------+\n",
      "|server_id|server_name|\n",
      "+---------+-----------+\n",
      "|      100| 100 Server|\n",
      "|      101| 101 Server|\n",
      "|      102| 102 Server|\n",
      "|      103| 103 Server|\n",
      "|      104| 104 Server|\n",
      "|      105| 105 Server|\n",
      "|      106| 106 Server|\n",
      "|      107| 107 Server|\n",
      "|      108| 108 Server|\n",
      "|      109| 109 Server|\n",
      "|      110| 110 Server|\n",
      "|      111| 111 Server|\n",
      "|      112| 112 Server|\n",
      "|      113| 113 Server|\n",
      "|      114| 114 Server|\n",
      "|      115| 115 Server|\n",
      "|      116| 116 Server|\n",
      "|      117| 117 Server|\n",
      "|      118| 118 Server|\n",
      "|      119| 119 Server|\n",
      "+---------+-----------+\n",
      "only showing top 20 rows\n",
      "\n"
     ]
    }
   ],
   "source": [
    "# show df2\n",
    "df2.show()"
   ]
  },
  {
   "cell_type": "code",
   "execution_count": 7,
   "id": "55059c03",
   "metadata": {},
   "outputs": [],
   "source": [
    "# create temporary view utilization from df1\n",
    "df1.createOrReplaceTempView(\"utilization\")"
   ]
  },
  {
   "cell_type": "code",
   "execution_count": 31,
   "id": "77b63aa5",
   "metadata": {},
   "outputs": [],
   "source": [
    "# create temporary view server_name from df2\n",
    "df2.createOrReplaceTempView(\"server_name\")"
   ]
  },
  {
   "cell_type": "code",
   "execution_count": 16,
   "id": "0a051e92",
   "metadata": {},
   "outputs": [
    {
     "name": "stdout",
     "output_type": "stream",
     "text": [
      "+---------+-------------+\n",
      "|server_id|session_count|\n",
      "+---------+-------------+\n",
      "|      100|           47|\n",
      "|      100|           43|\n",
      "|      100|           62|\n",
      "|      100|           50|\n",
      "|      100|           43|\n",
      "|      100|           48|\n",
      "|      100|           58|\n",
      "|      100|           58|\n",
      "|      100|           62|\n",
      "|      100|           45|\n",
      "+---------+-------------+\n",
      "\n"
     ]
    }
   ],
   "source": [
    "# select specific columns from view and show sample of data\n",
    "df_sql = spark.sql(\"SELECT server_id, session_count FROM utilization LIMIT 10\")\n",
    "df_sql.show()"
   ]
  },
  {
   "cell_type": "code",
   "execution_count": 17,
   "id": "9543a23b",
   "metadata": {},
   "outputs": [
    {
     "name": "stdout",
     "output_type": "stream",
     "text": [
      "+---+---+\n",
      "|sid| sc|\n",
      "+---+---+\n",
      "|100| 47|\n",
      "|100| 43|\n",
      "|100| 62|\n",
      "|100| 50|\n",
      "|100| 43|\n",
      "|100| 48|\n",
      "|100| 58|\n",
      "|100| 58|\n",
      "|100| 62|\n",
      "|100| 45|\n",
      "|100| 47|\n",
      "|100| 60|\n",
      "|100| 57|\n",
      "|100| 44|\n",
      "|100| 47|\n",
      "|100| 66|\n",
      "|100| 65|\n",
      "|100| 66|\n",
      "|100| 42|\n",
      "|100| 63|\n",
      "+---+---+\n",
      "only showing top 20 rows\n",
      "\n"
     ]
    }
   ],
   "source": [
    "df_sql = spark.sql(\"SELECT server_id AS sid, session_count AS sc FROM utilization\")\n",
    "df_sql.show()"
   ]
  },
  {
   "cell_type": "code",
   "execution_count": 19,
   "id": "ddf9c674",
   "metadata": {},
   "outputs": [
    {
     "name": "stdout",
     "output_type": "stream",
     "text": [
      "+---------------+-------------------+-----------+---------+-------------+\n",
      "|cpu_utilization|     event_datetime|free_memory|server_id|session_count|\n",
      "+---------------+-------------------+-----------+---------+-------------+\n",
      "|           0.66|03/05/2019 08:06:48|       0.31|      120|           54|\n",
      "|           0.58|03/05/2019 08:11:48|       0.38|      120|           64|\n",
      "|           0.55|03/05/2019 08:16:48|       0.61|      120|           54|\n",
      "|            0.7|03/05/2019 08:21:48|       0.35|      120|           80|\n",
      "|            0.6|03/05/2019 08:26:48|       0.39|      120|           71|\n",
      "|           0.53|03/05/2019 08:31:48|       0.35|      120|           49|\n",
      "|           0.73|03/05/2019 08:36:48|       0.42|      120|           73|\n",
      "|           0.41|03/05/2019 08:41:48|        0.6|      120|           72|\n",
      "|           0.62|03/05/2019 08:46:48|       0.57|      120|           57|\n",
      "|           0.67|03/05/2019 08:51:48|       0.44|      120|           78|\n",
      "|           0.67|03/05/2019 08:56:48|       0.38|      120|           73|\n",
      "|           0.39|03/05/2019 09:01:48|       0.47|      120|           58|\n",
      "|            0.5|03/05/2019 09:06:48|       0.29|      120|           78|\n",
      "|           0.38|03/05/2019 09:11:48|       0.38|      120|           56|\n",
      "|           0.53|03/05/2019 09:16:48|       0.38|      120|           47|\n",
      "|           0.74|03/05/2019 09:21:48|       0.25|      120|           69|\n",
      "|           0.53|03/05/2019 09:26:48|       0.57|      120|           73|\n",
      "|           0.54|03/05/2019 09:31:48|       0.64|      120|           65|\n",
      "|            0.7|03/05/2019 09:36:48|       0.52|      120|           55|\n",
      "|           0.54|03/05/2019 09:41:48|       0.27|      120|           74|\n",
      "+---------------+-------------------+-----------+---------+-------------+\n",
      "only showing top 20 rows\n",
      "\n"
     ]
    }
   ],
   "source": [
    "# filter data by column\n",
    "df_sql = spark.sql(\"SELECT * FROM utilization WHERE server_id = 120\")\n",
    "df_sql.show()"
   ]
  },
  {
   "cell_type": "code",
   "execution_count": 20,
   "id": "b2261569",
   "metadata": {},
   "outputs": [
    {
     "name": "stdout",
     "output_type": "stream",
     "text": [
      "+---------------+-------------------+-----------+---------+-------------+\n",
      "|cpu_utilization|     event_datetime|free_memory|server_id|session_count|\n",
      "+---------------+-------------------+-----------+---------+-------------+\n",
      "|           0.32|03/05/2019 11:06:14|       0.35|      100|           71|\n",
      "|           0.35|03/05/2019 12:31:14|       0.42|      100|           71|\n",
      "|           0.29|03/05/2019 13:31:14|       0.36|      100|           71|\n",
      "|           0.49|03/05/2019 16:36:14|       0.66|      100|           71|\n",
      "|           0.32|03/05/2019 16:46:14|       0.58|      100|           72|\n",
      "|           0.44|03/05/2019 18:26:14|       0.52|      100|           72|\n",
      "|           0.45|03/05/2019 21:26:14|       0.47|      100|           71|\n",
      "|           0.34|03/06/2019 01:46:14|       0.55|      100|           71|\n",
      "|           0.61|03/06/2019 05:21:14|       0.35|      100|           71|\n",
      "|           0.45|03/06/2019 07:26:14|       0.66|      100|           72|\n",
      "|           0.57|03/06/2019 09:56:14|       0.38|      100|           71|\n",
      "|           0.29|03/06/2019 10:46:14|       0.63|      100|           72|\n",
      "|           0.42|03/06/2019 11:41:14|       0.72|      100|           71|\n",
      "|            0.5|03/06/2019 13:01:14|       0.64|      100|           71|\n",
      "|            0.4|03/06/2019 15:41:14|       0.57|      100|           72|\n",
      "|           0.48|03/06/2019 21:26:14|       0.63|      100|           71|\n",
      "|           0.64|03/06/2019 22:01:14|        0.4|      100|           72|\n",
      "|           0.64|03/07/2019 01:31:14|       0.69|      100|           72|\n",
      "|           0.56|03/07/2019 02:36:14|       0.53|      100|           71|\n",
      "|           0.46|03/07/2019 05:46:14|       0.46|      100|           71|\n",
      "+---------------+-------------------+-----------+---------+-------------+\n",
      "only showing top 20 rows\n",
      "\n"
     ]
    }
   ],
   "source": [
    "# filter data by column\n",
    "df_sql = spark.sql(\"SELECT * FROM utilization WHERE session_count > 70\")\n",
    "df_sql.show()"
   ]
  },
  {
   "cell_type": "code",
   "execution_count": 21,
   "id": "ceb793a5",
   "metadata": {},
   "outputs": [
    {
     "name": "stdout",
     "output_type": "stream",
     "text": [
      "+---------------+-------------------+-----------+---------+-------------+\n",
      "|cpu_utilization|     event_datetime|free_memory|server_id|session_count|\n",
      "+---------------+-------------------+-----------+---------+-------------+\n",
      "|            0.7|03/05/2019 08:21:48|       0.35|      120|           80|\n",
      "|            0.6|03/05/2019 08:26:48|       0.39|      120|           71|\n",
      "|           0.73|03/05/2019 08:36:48|       0.42|      120|           73|\n",
      "|           0.41|03/05/2019 08:41:48|        0.6|      120|           72|\n",
      "|           0.67|03/05/2019 08:51:48|       0.44|      120|           78|\n",
      "|           0.67|03/05/2019 08:56:48|       0.38|      120|           73|\n",
      "|            0.5|03/05/2019 09:06:48|       0.29|      120|           78|\n",
      "|           0.53|03/05/2019 09:26:48|       0.57|      120|           73|\n",
      "|           0.54|03/05/2019 09:41:48|       0.27|      120|           74|\n",
      "|           0.63|03/05/2019 10:06:48|       0.47|      120|           78|\n",
      "|           0.51|03/05/2019 10:26:48|       0.58|      120|           75|\n",
      "|           0.42|03/05/2019 11:21:48|       0.26|      120|           75|\n",
      "|           0.42|03/05/2019 11:31:48|       0.46|      120|           73|\n",
      "|           0.37|03/05/2019 11:41:48|       0.38|      120|           79|\n",
      "|            0.6|03/05/2019 11:56:48|       0.63|      120|           72|\n",
      "|            0.4|03/05/2019 12:01:48|       0.52|      120|           77|\n",
      "|           0.66|03/05/2019 12:36:48|       0.32|      120|           75|\n",
      "|           0.37|03/05/2019 13:21:48|       0.62|      120|           72|\n",
      "|           0.69|03/05/2019 13:36:48|       0.58|      120|           79|\n",
      "|           0.59|03/05/2019 14:06:48|       0.34|      120|           75|\n",
      "+---------------+-------------------+-----------+---------+-------------+\n",
      "only showing top 20 rows\n",
      "\n"
     ]
    }
   ],
   "source": [
    "# filter data using a couple of conditions\n",
    "df_sql = spark.sql(\"SELECT * FROM utilization WHERE session_count > 70 AND server_id = 120\")\n",
    "df_sql.show()"
   ]
  },
  {
   "cell_type": "code",
   "execution_count": 22,
   "id": "2ec3e34d",
   "metadata": {},
   "outputs": [
    {
     "name": "stdout",
     "output_type": "stream",
     "text": [
      "+---------+-------------+\n",
      "|server_id|session_count|\n",
      "+---------+-------------+\n",
      "|      120|           80|\n",
      "|      120|           80|\n",
      "|      120|           80|\n",
      "|      120|           80|\n",
      "|      120|           80|\n",
      "|      120|           80|\n",
      "|      120|           80|\n",
      "|      120|           80|\n",
      "|      120|           80|\n",
      "|      120|           80|\n",
      "|      120|           80|\n",
      "|      120|           80|\n",
      "|      120|           80|\n",
      "|      120|           80|\n",
      "|      120|           80|\n",
      "|      120|           80|\n",
      "|      120|           80|\n",
      "|      120|           80|\n",
      "|      120|           80|\n",
      "|      120|           80|\n",
      "+---------+-------------+\n",
      "only showing top 20 rows\n",
      "\n"
     ]
    }
   ],
   "source": [
    "# filter data using a couple of conditions and order data\n",
    "df_sql = spark.sql(\"SELECT server_id, session_count \\\n",
    "                   FROM utilization \\\n",
    "                   WHERE session_count > 70 AND server_id = 120 \\\n",
    "                   ORDER BY session_count DESC\")\n",
    "df_sql.show()"
   ]
  },
  {
   "cell_type": "code",
   "execution_count": 23,
   "id": "14aa49a7",
   "metadata": {},
   "outputs": [
    {
     "name": "stdout",
     "output_type": "stream",
     "text": [
      "+--------+\n",
      "|count(1)|\n",
      "+--------+\n",
      "|  239659|\n",
      "+--------+\n",
      "\n"
     ]
    }
   ],
   "source": [
    "# get count of data that fulfills a condition\n",
    "df_sql = spark.sql(\"SELECT COUNT(*) \\\n",
    "                   FROM utilization \\\n",
    "                   WHERE session_count > 70\")\n",
    "df_sql.show()"
   ]
  },
  {
   "cell_type": "code",
   "execution_count": 25,
   "id": "21f30a3f",
   "metadata": {},
   "outputs": [
    {
     "name": "stdout",
     "output_type": "stream",
     "text": [
      "+---------+--------+\n",
      "|server_id|count(1)|\n",
      "+---------+--------+\n",
      "|      103|    8744|\n",
      "|      104|    7366|\n",
      "|      100|     391|\n",
      "|      105|    1110|\n",
      "|      101|    9808|\n",
      "|      102|    8586|\n",
      "|      112|    7425|\n",
      "|      113|    9418|\n",
      "|      110|    2826|\n",
      "|      107|    5646|\n",
      "|      111|    3093|\n",
      "|      108|    8375|\n",
      "|      109|    3129|\n",
      "|      116|    1167|\n",
      "|      114|    2128|\n",
      "|      115|    5284|\n",
      "|      120|    2733|\n",
      "|      118|    7913|\n",
      "|      117|    3605|\n",
      "|      126|    6365|\n",
      "+---------+--------+\n",
      "only showing top 20 rows\n",
      "\n"
     ]
    }
   ],
   "source": [
    "# aggregate data and get count\n",
    "df_sql = spark.sql(\"SELECT server_id, COUNT(*) \\\n",
    "                   FROM utilization \\\n",
    "                   WHERE session_count > 70 \\\n",
    "                   GROUP BY server_id\")\n",
    "df_sql.show()"
   ]
  },
  {
   "cell_type": "code",
   "execution_count": 26,
   "id": "e0ba0fdc",
   "metadata": {},
   "outputs": [
    {
     "name": "stdout",
     "output_type": "stream",
     "text": [
      "+---------+--------+\n",
      "|server_id|count(1)|\n",
      "+---------+--------+\n",
      "|      101|    9808|\n",
      "|      113|    9418|\n",
      "|      145|    9304|\n",
      "|      103|    8744|\n",
      "|      102|    8586|\n",
      "|      133|    8583|\n",
      "|      108|    8375|\n",
      "|      149|    8288|\n",
      "|      137|    8248|\n",
      "|      148|    8027|\n",
      "|      123|    7918|\n",
      "|      118|    7913|\n",
      "|      112|    7425|\n",
      "|      139|    7383|\n",
      "|      104|    7366|\n",
      "|      121|    7084|\n",
      "|      142|    7084|\n",
      "|      146|    7072|\n",
      "|      126|    6365|\n",
      "|      144|    6220|\n",
      "+---------+--------+\n",
      "only showing top 20 rows\n",
      "\n"
     ]
    }
   ],
   "source": [
    "# aggregate data, get count and order data\n",
    "df_sql = spark.sql(\"SELECT server_id, COUNT(*) \\\n",
    "                   FROM utilization \\\n",
    "                   WHERE session_count > 70 \\\n",
    "                   GROUP BY server_id \\\n",
    "                   ORDER BY COUNT(*) DESC\")\n",
    "df_sql.show()"
   ]
  },
  {
   "cell_type": "code",
   "execution_count": 28,
   "id": "a9818613",
   "metadata": {},
   "outputs": [
    {
     "name": "stdout",
     "output_type": "stream",
     "text": [
      "+---------+------------------+------------------+----------------------------+\n",
      "|server_id|min(session_count)|max(session_count)|round(avg(session_count), 2)|\n",
      "+---------+------------------+------------------+----------------------------+\n",
      "|      103|                71|               101|                       85.76|\n",
      "|      104|                71|                96|                       83.35|\n",
      "|      100|                71|                72|                       71.25|\n",
      "|      105|                71|                74|                       72.48|\n",
      "|      101|                71|               105|                       87.67|\n",
      "|      102|                71|               101|                       85.71|\n",
      "|      112|                71|                97|                       83.55|\n",
      "|      113|                71|               103|                       86.96|\n",
      "|      110|                71|                80|                       75.47|\n",
      "|      107|                71|                90|                       80.35|\n",
      "|      111|                71|                81|                       75.86|\n",
      "|      108|                71|               100|                       85.12|\n",
      "|      109|                71|                81|                       75.97|\n",
      "|      116|                71|                75|                       72.62|\n",
      "|      114|                71|                78|                       74.18|\n",
      "|      115|                71|                89|                        79.7|\n",
      "|      120|                71|                80|                       75.37|\n",
      "|      118|                71|                98|                       84.66|\n",
      "|      117|                71|                83|                       76.78|\n",
      "|      126|                71|                93|                       81.56|\n",
      "+---------+------------------+------------------+----------------------------+\n",
      "only showing top 20 rows\n",
      "\n"
     ]
    }
   ],
   "source": [
    "# aggregate data and apply several aggregate functions\n",
    "df_sql = spark.sql(\"SELECT server_id, MIN(session_count), MAX(session_count), ROUND(AVG(session_count), 2) \\\n",
    "                   FROM utilization \\\n",
    "                   WHERE session_count > 70 \\\n",
    "                   GROUP BY server_id\")\n",
    "df_sql.show()"
   ]
  },
  {
   "cell_type": "code",
   "execution_count": 33,
   "id": "7d3a6afe",
   "metadata": {},
   "outputs": [
    {
     "name": "stdout",
     "output_type": "stream",
     "text": [
      "+---------+-----------+-------------+\n",
      "|server_id|server_name|session_count|\n",
      "+---------+-----------+-------------+\n",
      "|      100| 100 Server|           47|\n",
      "|      100| 100 Server|           43|\n",
      "|      100| 100 Server|           62|\n",
      "|      100| 100 Server|           50|\n",
      "|      100| 100 Server|           43|\n",
      "|      100| 100 Server|           48|\n",
      "|      100| 100 Server|           58|\n",
      "|      100| 100 Server|           58|\n",
      "|      100| 100 Server|           62|\n",
      "|      100| 100 Server|           45|\n",
      "|      100| 100 Server|           47|\n",
      "|      100| 100 Server|           60|\n",
      "|      100| 100 Server|           57|\n",
      "|      100| 100 Server|           44|\n",
      "|      100| 100 Server|           47|\n",
      "|      100| 100 Server|           66|\n",
      "|      100| 100 Server|           65|\n",
      "|      100| 100 Server|           66|\n",
      "|      100| 100 Server|           42|\n",
      "|      100| 100 Server|           63|\n",
      "+---------+-----------+-------------+\n",
      "only showing top 20 rows\n",
      "\n"
     ]
    }
   ],
   "source": [
    "# join views together\n",
    "df_sql = spark.sql(\"SELECT util.server_id, name.server_name, util.session_count \\\n",
    "                   FROM utilization AS util \\\n",
    "                   INNER JOIN server_name AS name ON(util.server_id = name.server_id)\")\n",
    "df_sql.show()"
   ]
  },
  {
   "cell_type": "code",
   "execution_count": 34,
   "id": "0cf9bfb2",
   "metadata": {},
   "outputs": [
    {
     "name": "stdout",
     "output_type": "stream",
     "text": [
      "+---------------+--------------+-----------+---------+-------------+\n",
      "|cpu_utilization|event_datetime|free_memory|server_id|session_count|\n",
      "+---------------+--------------+-----------+---------+-------------+\n",
      "+---------------+--------------+-----------+---------+-------------+\n",
      "\n"
     ]
    }
   ],
   "source": [
    "# select rows with null values\n",
    "df_sql = spark.sql(\"SELECT * FROM utilization WHERE session_count IS NULL\")\n",
    "df_sql.show()"
   ]
  },
  {
   "cell_type": "code",
   "execution_count": 35,
   "id": "11961e6c",
   "metadata": {},
   "outputs": [
    {
     "name": "stdout",
     "output_type": "stream",
     "text": [
      "+---------------+-------------------+-----------+---------+-------------+\n",
      "|cpu_utilization|     event_datetime|free_memory|server_id|session_count|\n",
      "+---------------+-------------------+-----------+---------+-------------+\n",
      "|           0.57|03/05/2019 08:06:14|       0.51|      100|           47|\n",
      "|           0.47|03/05/2019 08:11:14|       0.62|      100|           43|\n",
      "|           0.56|03/05/2019 08:16:14|       0.57|      100|           62|\n",
      "|           0.57|03/05/2019 08:21:14|       0.56|      100|           50|\n",
      "|           0.35|03/05/2019 08:26:14|       0.46|      100|           43|\n",
      "|           0.41|03/05/2019 08:31:14|       0.58|      100|           48|\n",
      "|           0.57|03/05/2019 08:36:14|       0.35|      100|           58|\n",
      "|           0.41|03/05/2019 08:41:14|        0.4|      100|           58|\n",
      "|           0.53|03/05/2019 08:46:14|       0.35|      100|           62|\n",
      "|           0.51|03/05/2019 08:51:14|        0.6|      100|           45|\n",
      "|           0.32|03/05/2019 08:56:14|       0.37|      100|           47|\n",
      "|           0.62|03/05/2019 09:01:14|       0.59|      100|           60|\n",
      "|           0.66|03/05/2019 09:06:14|       0.72|      100|           57|\n",
      "|           0.54|03/05/2019 09:11:14|       0.54|      100|           44|\n",
      "|           0.29|03/05/2019 09:16:14|        0.4|      100|           47|\n",
      "|           0.43|03/05/2019 09:21:14|       0.68|      100|           66|\n",
      "|           0.49|03/05/2019 09:26:14|       0.66|      100|           65|\n",
      "|           0.64|03/05/2019 09:31:14|       0.55|      100|           66|\n",
      "|           0.42|03/05/2019 09:36:14|        0.6|      100|           42|\n",
      "|           0.55|03/05/2019 09:41:14|       0.59|      100|           63|\n",
      "+---------------+-------------------+-----------+---------+-------------+\n",
      "only showing top 20 rows\n",
      "\n"
     ]
    }
   ],
   "source": [
    "# drop rows with null values\n",
    "df_sql = spark.sql(\"SELECT * FROM utilization WHERE session_count IS NOT NULL\")\n",
    "df_sql.show()"
   ]
  }
 ],
 "metadata": {
  "kernelspec": {
   "display_name": "Python 3 (ipykernel)",
   "language": "python",
   "name": "python3"
  },
  "language_info": {
   "codemirror_mode": {
    "name": "ipython",
    "version": 3
   },
   "file_extension": ".py",
   "mimetype": "text/x-python",
   "name": "python",
   "nbconvert_exporter": "python",
   "pygments_lexer": "ipython3",
   "version": "3.8.5"
  }
 },
 "nbformat": 4,
 "nbformat_minor": 5
}
